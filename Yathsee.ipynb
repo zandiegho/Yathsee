{
 "cells": [
  {
   "cell_type": "code",
   "execution_count": 67,
   "metadata": {},
   "outputs": [],
   "source": [
    "import random\n",
    "\n",
    "def lanzar_dados(num_dados = 5):\n",
    "    # Lanza un conjunto de 5 dados y damos valores ramdon de 1 a 6 a cada dado\n",
    "    return [random.randint(1, 6) for _ in range(num_dados)]\n",
    "\n",
    "def es_yahtzee(dados):\n",
    "    # si los dados todos son iguales forman un Yahtzee\n",
    "\n",
    "    #UTILIZAMOS EL PARAMETRO set PARA DEFINIR SI EN LA LISTA SOLO HAY UN VALOR\n",
    "    return len(set(dados)) == 1 \n",
    "\n",
    "\n",
    "def es_fullHouse(dados):\n",
    "\n",
    "    # Verificamos si se obtiene un Full House (una terna y un par)    \n",
    "    # Contamos la cantidad de veces que aparece cada valor\n",
    "    conteo = {valor: dados.count(valor) for valor in set(dados)}\n",
    "        \n",
    "    # Verifica si hay exactamente una terna y un par\n",
    "    valores_conteo = list(conteo.values())\n",
    "\n",
    "    return 3 in valores_conteo and 2 in valores_conteo\n",
    "\n",
    "\n"
   ]
  },
  {
   "cell_type": "code",
   "execution_count": 68,
   "metadata": {},
   "outputs": [],
   "source": [
    "\"\"\" ================================ SIMULACIONES ================================ \"\"\"\n",
    "\n",
    "# =========================================== SIMULACION YATHZEE =========================================== \n",
    "\n",
    "def simulacion_yahtzee(num_simulaciones = 1000000):\n",
    "    # Simula el lanzamiento de dados un millon de veces y estima la probabilidad que obtengamos un Yathzee (Las mismas caras o valor en todos los dados).\n",
    "    yahtzees = 0\n",
    "    for _ in range(num_simulaciones):\n",
    "        dados = lanzar_dados()\n",
    "        # IMPRIMIR UNICAMNETE LAS PRIMERAS 10 SIMULACIONES DE LANZAMINETO DE DADOS\n",
    "        if _ < 10:\n",
    "            print(\"Valores obtenidos de dados para el yathzee: \", dados)\n",
    "\n",
    "        if es_yahtzee(dados):\n",
    "            yahtzees += 1\n",
    "\n",
    "    probabilidad_yahtzee = yahtzees / num_simulaciones\n",
    "    return probabilidad_yahtzee\n",
    "\n",
    "\n",
    "# =========================================== SIMULACION FULLHOUSE =========================================== \n",
    "#  \n",
    "def simulacion_fullHouse(can_simulaciones = 1000000):\n",
    "    # Simula el lanzamiento de dados un millon de veces y estima la probabilidad de que obtengamos un full house (una terna y un par)\n",
    "    fullHouses = 0\n",
    "    for _ in range(can_simulaciones):\n",
    "        dados = lanzar_dados()\n",
    "\n",
    "        # IMPRIMIR UNICAMNETE LAS PRIMERAS 10 SIMULACIONES DE LANZAMINETO DE DADOS\n",
    "        if _ < 10:\n",
    "            print(\"Valores obtenidos de dados para el full house: \", dados)\n",
    "\n",
    "        #SI FULL HOUSE EXISTE, SUMAR 1\n",
    "        if es_fullHouse(dados):\n",
    "            fullHouses += 1\n",
    "    \n",
    "    #ESTIMAR LA PROBABILIDAD DEL FULL HOUSE\n",
    "    probabilidad_fullHouse = fullHouses / can_simulaciones\n",
    "    return probabilidad_fullHouse"
   ]
  },
  {
   "cell_type": "code",
   "execution_count": 69,
   "metadata": {},
   "outputs": [
    {
     "name": "stdout",
     "output_type": "stream",
     "text": [
      "Valores obtenidos de dados para el yathzee:  [3, 5, 3, 2, 4]\n",
      "Valores obtenidos de dados para el yathzee:  [1, 1, 3, 6, 1]\n",
      "Valores obtenidos de dados para el yathzee:  [6, 2, 4, 6, 6]\n",
      "Valores obtenidos de dados para el yathzee:  [1, 6, 1, 3, 5]\n",
      "Valores obtenidos de dados para el yathzee:  [1, 2, 1, 1, 4]\n",
      "Valores obtenidos de dados para el yathzee:  [1, 6, 5, 1, 4]\n",
      "Valores obtenidos de dados para el yathzee:  [1, 5, 4, 5, 5]\n",
      "Valores obtenidos de dados para el yathzee:  [6, 3, 2, 4, 6]\n",
      "Valores obtenidos de dados para el yathzee:  [3, 5, 6, 2, 4]\n",
      "Valores obtenidos de dados para el yathzee:  [4, 5, 5, 4, 3]\n",
      "\n",
      "La probabilidad estimada de obtener un Yahtzee es: 0.000757\n",
      "\n",
      "Valores obtenidos de dados para el full house:  [5, 4, 1, 5, 4]\n",
      "Valores obtenidos de dados para el full house:  [5, 4, 1, 2, 3]\n",
      "Valores obtenidos de dados para el full house:  [4, 5, 3, 3, 4]\n",
      "Valores obtenidos de dados para el full house:  [6, 4, 3, 4, 1]\n",
      "Valores obtenidos de dados para el full house:  [1, 1, 4, 2, 2]\n",
      "Valores obtenidos de dados para el full house:  [5, 3, 5, 5, 5]\n",
      "Valores obtenidos de dados para el full house:  [4, 4, 3, 5, 6]\n",
      "Valores obtenidos de dados para el full house:  [4, 4, 5, 5, 4]\n",
      "Valores obtenidos de dados para el full house:  [4, 5, 1, 5, 1]\n",
      "Valores obtenidos de dados para el full house:  [1, 3, 2, 1, 4]\n",
      "\n",
      "La probabilidad estimada de obtener un Full house es: 0.038401\n",
      "\n"
     ]
    }
   ],
   "source": [
    "\"\"\" ================================ IMPRESIONES ================================ \"\"\"\n",
    "\n",
    "\n",
    "# Ejecutar la simulación\n",
    "probabilidad_yahtzee = simulacion_yahtzee()\n",
    "print(f\"\\nLa probabilidad estimada de obtener un Yahtzee es: {probabilidad_yahtzee:.6f}\\n\")\n",
    "\n",
    "# Ejecutar la simulación\n",
    "probabilidad_FullHouse = simulacion_fullHouse()\n",
    "print(f\"\\nLa probabilidad estimada de obtener un Full house es: {probabilidad_FullHouse:.6f}\\n\")\n"
   ]
  }
 ],
 "metadata": {
  "kernelspec": {
   "display_name": "clases",
   "language": "python",
   "name": "python3"
  },
  "language_info": {
   "codemirror_mode": {
    "name": "ipython",
    "version": 3
   },
   "file_extension": ".py",
   "mimetype": "text/x-python",
   "name": "python",
   "nbconvert_exporter": "python",
   "pygments_lexer": "ipython3",
   "version": "3.12.3"
  }
 },
 "nbformat": 4,
 "nbformat_minor": 2
}
